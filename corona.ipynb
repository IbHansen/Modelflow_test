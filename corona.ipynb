{
 "cells": [
  {
   "cell_type": "markdown",
   "metadata": {},
   "source": [
    "# Modelling spreading of infectious diseases\n",
    "This is an experimental model made in a few hours. Inspirered by https://triplebyte.com/blog/modeling-infectious-diseases. \n",
    "\n",
    "The model is purely for testing the capabilities of ModelFlow \n",
    "\n",
    "To run the model select **cell>run all** in the menu "
   ]
  },
  {
   "cell_type": "markdown",
   "metadata": {},
   "source": [
    "## Import some stuff"
   ]
  },
  {
   "cell_type": "code",
   "execution_count": 2,
   "metadata": {},
   "outputs": [],
   "source": [
    "import pandas as pd\n",
    "from ipywidgets import interact,Dropdown,Checkbox,Layout,FloatSlider\n",
    "\n",
    "from modelsandbox import newmodel\n",
    "import modelclass as mc\n",
    "import modelmanipulation as mp \n",
    "from modeljupyter import inputwidget"
   ]
  },
  {
   "cell_type": "markdown",
   "metadata": {},
   "source": [
    "##  Specify Model\n",
    "The model is specified as equations. The equations defines the daily transition between the states:\n",
    "\n",
    " - susciptible\n",
    " - exposed\n",
    " - infectious\n",
    " - recovered\n",
    " - dead \n",
    " \n",
    "Some conventions:\n",
    " - (-1) after a variable means the value the day before.\n",
    " - diff means the change in variable from the day before"
   ]
  },
  {
   "cell_type": "code",
   "execution_count": 3,
   "metadata": {},
   "outputs": [],
   "source": [
    "rcorona = '''\\\n",
    "             infection_rate        = rate_contact * probability_transmision * infectious(-1) / population(-1) \n",
    "             new_exposed           = infection_rate * susceptible\n",
    "             diff(exposed)         = new_exposed - new_infectious + exo_exposed\n",
    "\n",
    "             new_infectious        = incubation_rate * exposed \n",
    "             diff(infectious)      = new_infectious - diff(recovered) - dead\n",
    "\n",
    "             diff(susceptible)     = -new_exposed  \n",
    "\n",
    "             diff(recovered)       = recovery_rate * infectious(-1)\n",
    "\n",
    "             dead                  = dead_rate * infectious(-1)\n",
    "             diff(alldead)         = dead\n",
    "             diff(population)      = -dead             \n",
    "'''"
   ]
  },
  {
   "cell_type": "markdown",
   "metadata": {},
   "source": [
    "# Create a model instance\n",
    "We want to be able to calculate with the model. So a Python instance **mcorona** is created. "
   ]
  },
  {
   "cell_type": "code",
   "execution_count": 4,
   "metadata": {},
   "outputs": [
    {
     "name": "stdout",
     "output_type": "stream",
     "text": [
      "This model has simultaneous elements or cyclical elements.\n"
     ]
    }
   ],
   "source": [
    "fcorona = mp.explode(rcorona)\n",
    "mcorona = newmodel(fcorona)"
   ]
  },
  {
   "cell_type": "markdown",
   "metadata": {},
   "source": [
    "## Now define some the data. \n",
    "Now a tabel with data is created. Each column containg a variable for the model. Each row contains the values for a day. \n",
    "\n",
    "The tabel is implemented as a Pandas Dataframe. "
   ]
  },
  {
   "cell_type": "code",
   "execution_count": 5,
   "metadata": {},
   "outputs": [],
   "source": [
    "DAYS = 200\n",
    "basedf = pd.DataFrame(index=range(DAYS))       # make an empty dataframe with DAYS rows\n",
    "grunddf = mc.insertModelVar(basedf,mcorona)    # fill dataframe with variables and zeros \n",
    "grunddf.loc[0,'POPULATION']= 1000000           # we need a population for the first day \n",
    "grunddf['SUSCEPTIBLE'] = grunddf['POPULATION'] # we also need a value for the number of susceptible"
   ]
  },
  {
   "cell_type": "markdown",
   "metadata": {},
   "source": [
    "## Now run a baseline scenario without any infectious diseases"
   ]
  },
  {
   "cell_type": "code",
   "execution_count": 6,
   "metadata": {},
   "outputs": [
    {
     "name": "stdout",
     "output_type": "stream",
     "text": [
      "Generating source for testmodel using ljit = False \n",
      "make model text started at :        15:26:50 \n",
      "make model text took       :    0.0000000000 Seconds\n"
     ]
    }
   ],
   "source": [
    "res1 = mcorona(grunddf,antal=20,first_test=10,silent=1)"
   ]
  },
  {
   "cell_type": "markdown",
   "metadata": {},
   "source": [
    "## Make eksperiments \n",
    "Use the sliders to define an experiment. Then press the run button. The model will solve, and the results can be inspected in the output widget. "
   ]
  },
  {
   "cell_type": "code",
   "execution_count": 9,
   "metadata": {},
   "outputs": [
    {
     "data": {
      "application/vnd.jupyter.widget-view+json": {
       "model_id": "8424d802637246fb8c6d5a2a111bfad3",
       "version_major": 2,
       "version_minor": 0
      },
      "text/plain": [
       "VBox(children=(HBox(children=(Label(value='Input new parameter ', layout=Layout(width='53%')), Label(value='Al…"
      ]
     },
     "metadata": {},
     "output_type": "display_data"
    },
    {
     "data": {
      "application/vnd.jupyter.widget-view+json": {
       "model_id": "6130a10f6f4f40a2b1a043e7c245d23d",
       "version_major": 2,
       "version_minor": 0
      },
      "text/plain": [
       "Tab(children=(VBox(children=(Tab(children=(Output(), Output(), Output(), Output(), Output()), _titles={'0': 'L…"
      ]
     },
     "metadata": {},
     "output_type": "display_data"
    }
   ],
   "source": [
    "cow = inputwidget(mcorona,grunddf,modelopt={'silent':0},\n",
    "                  slidedef = {\n",
    "                     'Number of infected t=1'     :{'var' : 'EXO_EXPOSED','min' : 0.0, 'max' : 1000, 'value' : 0.0,'step':10,'op':'+impulse'},\n",
    "                     'Rate of contact'            :{'var' : 'RATE_CONTACT','min' : 0.0, 'max' : 100, 'value' : 1,'step':1},\n",
    "                     'Probability of transmission':{'var' : 'PROBABILITY_TRANSMISION','min' : 0.0, 'max' : 1.0, 'value' : 0.2},\n",
    "                     'Daily incuberation rate'    :{'var' : 'INCUBATION_RATE','min' : 0.0, 'max' : 1.0, 'value' : 0.3},\n",
    "                     'Daily death rate'           :{'var' : 'DEAD_RATE','min' : 0.0, 'max' : 1.0, 'value' : 0.2},\n",
    "                     'Daily recovery rate'        :{'var' : 'RECOVERY_RATE','min' : 0.0, 'max' : 1.0, 'value' : 0.2}\n",
    "                             },\n",
    "                 varpat='#endo')\n",
    "\n",
    "display(cow)"
   ]
  },
  {
   "cell_type": "markdown",
   "metadata": {},
   "source": [
    "## The structure of the model \n",
    "The mmodel instance has a number of capabilities. It can for instance draw the relationship between the variables. "
   ]
  },
  {
   "cell_type": "code",
   "execution_count": 8,
   "metadata": {},
   "outputs": [
    {
     "data": {
      "image/png": "[encoded data removed]",
      "text/plain": [
       "<IPython.core.display.Image object>"
      ]
     },
     "metadata": {},
     "output_type": "display_data"
    }
   ],
   "source": [
    "mcorona.drawmodel(lag=1,size=(2,2))"
   ]
  }
 ],
 "metadata": {
  "kernelspec": {
   "display_name": "Python 3",
   "language": "python",
   "name": "python3"
  },
  "language_info": {
   "codemirror_mode": {
    "name": "ipython",
    "version": 3
   },
   "file_extension": ".py",
   "mimetype": "text/x-python",
   "name": "python",
   "nbconvert_exporter": "python",
   "pygments_lexer": "ipython3",
   "version": "3.7.5"
  },
  "toc": {
   "base_numbering": 1,
   "nav_menu": {},
   "number_sections": true,
   "sideBar": true,
   "skip_h1_title": false,
   "title_cell": "Table of Contents",
   "title_sidebar": "Contents",
   "toc_cell": false,
   "toc_position": {},
   "toc_section_display": true,
   "toc_window_display": false
  }
 },
 "nbformat": 4,
 "nbformat_minor": 4
}
