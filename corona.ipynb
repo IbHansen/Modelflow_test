{
 "cells": [
  {
   "cell_type": "markdown",
   "metadata": {
    "slideshow": {
     "slide_type": "slide"
    }
   },
   "source": [
    "# Modelling spreading of infectious diseases\n",
    "This is an experimental model made in a few hours. Inspirered by https://triplebyte.com/blog/modeling-infectious-diseases. \n",
    "\n",
    "The model is purely for testing the capabilities of ModelFlow, the parameters selected are for ilustration of the dynamic\n",
    "and is not an estimate. \n",
    "\n",
    "To run the model select **cell>run all** in the menu\n",
    "\n",
    "Then press the run button in the user interaction section. \n",
    "\n",
    "Use the sliders to change the input parameters\n",
    "\n",
    "This is a Jupyter Notebook running Python.  "
   ]
  },
  {
   "cell_type": "markdown",
   "metadata": {
    "slideshow": {
     "slide_type": "slide"
    }
   },
   "source": [
    "## Import some stuff"
   ]
  },
  {
   "cell_type": "code",
   "execution_count": null,
   "metadata": {
    "slideshow": {
     "slide_type": "-"
    }
   },
   "outputs": [],
   "source": [
    "import pandas as pd\n",
    "from ipywidgets import interact,Dropdown,Checkbox,Layout,FloatSlider\n",
    "\n",
    "from modelsandbox import newmodel\n",
    "import modelclass as mc\n",
    "import modelmanipulation as mp \n",
    "from modeljupyter import inputwidget,get_alt,vis_alt3"
   ]
  },
  {
   "cell_type": "markdown",
   "metadata": {
    "slideshow": {
     "slide_type": "slide"
    }
   },
   "source": [
    "##  Specify Model\n",
    "The model is specified as equations. The equations defines the daily transition between the states:\n",
    "\n",
    " - susciptible\n",
    " - exposed\n",
    " - infectious\n",
    " - recovered\n",
    " - dead \n",
    " \n",
    "Some conventions:\n",
    " - (-1) after a variable means the value the day before.\n",
    " - diff means the change in variable from the day before"
   ]
  },
  {
   "cell_type": "code",
   "execution_count": null,
   "metadata": {
    "slideshow": {
     "slide_type": "subslide"
    }
   },
   "outputs": [],
   "source": [
    "rcorona = '''\\\n",
    "             infection_rate        = min(rate_contact * probability_transmision * infectious(-1) / population(-1),1.0) \n",
    "             new_exposed           = infection_rate * susceptible\n",
    "             diff(exposed)         = new_exposed - new_infectious + exo_exposed\n",
    "\n",
    "             new_infectious        = incubation_rate * exposed \n",
    "             diff(infectious)      = new_infectious - new_recovered  - new_dead\n",
    "\n",
    "             diff(susceptible)     = -new_exposed  \n",
    "\n",
    "             new_recovered         = recovery_rate * infectious(-1)\n",
    "             diff(recovered)       = new_recovered \n",
    "             \n",
    "             new_dead              = dead_rate * infectious(-1)\n",
    "             diff(dead)            = new_dead \n",
    "             diff(population)      = -diff(dead)             \n",
    "'''"
   ]
  },
  {
   "cell_type": "markdown",
   "metadata": {
    "slideshow": {
     "slide_type": "slide"
    }
   },
   "source": [
    "# Create a model instance\n",
    "We want to be able to calculate with the model. So a Python instance **mcorona** is created. "
   ]
  },
  {
   "cell_type": "code",
   "execution_count": null,
   "metadata": {},
   "outputs": [],
   "source": [
    "fcorona = mp.explode(rcorona)\n",
    "mcorona = newmodel(fcorona)"
   ]
  },
  {
   "cell_type": "markdown",
   "metadata": {
    "slideshow": {
     "slide_type": "slide"
    }
   },
   "source": [
    "## Define an initial scenario \n",
    "Now a tabel with data is created. Each column containg a variable for the model. Each row contains the values for a day. \n",
    "\n",
    "The tabel is implemented as a Pandas Dataframe. \n",
    "\n",
    "**The initial population is set to 1,000,000**\n",
    "\n",
    "You don't have to understand the python code below. "
   ]
  },
  {
   "cell_type": "code",
   "execution_count": null,
   "metadata": {},
   "outputs": [],
   "source": [
    "DAYS = 500\n",
    "basedf = pd.DataFrame(index=range(DAYS))       # make an empty dataframe with DAYS rows\n",
    "#basedf.index.name = Days\n",
    "grunddf = mc.insertModelVar(basedf,mcorona)    # fill dataframe with variables and zeros \n",
    "grunddf.index.name = 'Day'\n",
    "\n",
    "# now input some starting values, and parameters \n",
    "grunddf.loc[0,'POPULATION']= 1000000           # we need a population for the first day \n",
    "grunddf['SUSCEPTIBLE'] = grunddf['POPULATION'] # we also need a value for the number of susceptible\n",
    "grunddf.loc[1,'EXO_EXPOSED']             = 300           # we need a population for the first day \n",
    "grunddf.loc[:,'INCUBATION_RATE']         = 0.1           # \n",
    "grunddf.loc[:,'DEAD_RATE']               = 0.01          #  \n",
    "grunddf.loc[:,'RECOVERY_RATE']           = 0.1           #  \n",
    "grunddf.loc[:,'RATE_CONTACT']            = 4             #  \n",
    "grunddf.loc[:,'PROBABILITY_TRANSMISION'] = 0.05           #  "
   ]
  },
  {
   "cell_type": "markdown",
   "metadata": {
    "slideshow": {
     "slide_type": "slide"
    }
   },
   "source": [
    "## Run the scenario"
   ]
  },
  {
   "cell_type": "code",
   "execution_count": null,
   "metadata": {},
   "outputs": [],
   "source": [
    "startdf = mcorona(grunddf,antal=20,first_test=10,silent=1)"
   ]
  },
  {
   "cell_type": "markdown",
   "metadata": {},
   "source": [
    "## Define an alternative scenario (increase rate of contact to 6), run it and show the results run it "
   ]
  },
  {
   "cell_type": "code",
   "execution_count": null,
   "metadata": {},
   "outputs": [],
   "source": [
    "mulbk = grunddf.copy()\n",
    "mulbk.loc[:,'RATE_CONTACT']            = 6             #  \n",
    "mulres = mcorona(mulbk,antal=20,first_test=10,silent=1)\n",
    "vis_alt3(get_alt(mcorona,'infectious recovered dead new_infectious new_recovered new_dead'),mcorona,basename='4 contacts',altname='6 contacts');"
   ]
  },
  {
   "cell_type": "markdown",
   "metadata": {
    "slideshow": {
     "slide_type": "slide"
    }
   },
   "source": [
    "## Make eksperiments \n",
    "Now you can make your own experiment. Use the sliders to define an experiment. Then press the run button. The model will solve, and the results can be inspected in the output widget. "
   ]
  },
  {
   "cell_type": "markdown",
   "metadata": {
    "slideshow": {
     "slide_type": "subslide"
    }
   },
   "source": [
    "### Define the user-interface"
   ]
  },
  {
   "cell_type": "code",
   "execution_count": null,
   "metadata": {
    "slideshow": {
     "slide_type": "-"
    }
   },
   "outputs": [],
   "source": [
    "cow = inputwidget(mcorona,startdf,modelopt={'silent':0},\n",
    "                  slidedef = {\n",
    "                     'Number of infected t=1'     :{'var' : 'EXO_EXPOSED','min' : 0.0, 'max' : 1000, 'value' : 300,'step':10,'op':'=impulse'},\n",
    "                     'Daily incuberation rate'    :{'var' : 'INCUBATION_RATE','min' : 0.0, 'max' : 1.0, 'value' : 0.1},\n",
    "                     'Daily death rate'           :{'var' : 'DEAD_RATE','min' : 0.0, 'max' : 1.0, 'value' : 0.01},\n",
    "                     'Daily recovery rate'        :{'var' : 'RECOVERY_RATE','min' : 0.0, 'max' : 1.0, 'value' : 0.1},\n",
    "                     'Daily rate of contact'      :{'var' : 'RATE_CONTACT','min' : 0.0, 'max' : 100, 'value' : 6,'step':1},\n",
    "                     'Probability of transmission':{'var' : 'PROBABILITY_TRANSMISION','min' : 0.0, 'max' : 1.0, 'value' : 0.05},\n",
    "                             },\n",
    "                 varpat='infectious recovered dead new_infectious new_recovered new_dead',base1name='4 Contact',alt1name='6 Contacts')"
   ]
  },
  {
   "cell_type": "markdown",
   "metadata": {
    "slideshow": {
     "slide_type": "subslide"
    }
   },
   "source": [
    "# User interaction \n",
    "Press the Run button to run the experiment. Inspect the results in the tabs. \n",
    "\n",
    "Adjust the parameters, press run and watch how the values changes"
   ]
  },
  {
   "cell_type": "code",
   "execution_count": null,
   "metadata": {},
   "outputs": [],
   "source": [
    "display(cow)"
   ]
  },
  {
   "cell_type": "markdown",
   "metadata": {
    "slideshow": {
     "slide_type": "slide"
    }
   },
   "source": [
    "## The structure of the model \n",
    "The mmodel instance has a number of capabilities. It can for instance draw the relationship between the variables. "
   ]
  },
  {
   "cell_type": "code",
   "execution_count": null,
   "metadata": {},
   "outputs": [],
   "source": [
    "mcorona.drawmodel(size= (2,2))  "
   ]
  }
 ],
 "metadata": {
  "kernelspec": {
   "display_name": "Python 3",
   "language": "python",
   "name": "python3"
  },
  "language_info": {
   "codemirror_mode": {
    "name": "ipython",
    "version": 3
   },
   "file_extension": ".py",
   "mimetype": "text/x-python",
   "name": "python",
   "nbconvert_exporter": "python",
   "pygments_lexer": "ipython3",
   "version": "3.7.5"
  },
  "toc": {
   "base_numbering": 1,
   "nav_menu": {},
   "number_sections": true,
   "sideBar": true,
   "skip_h1_title": false,
   "title_cell": "Table of Contents",
   "title_sidebar": "Contents",
   "toc_cell": false,
   "toc_position": {},
   "toc_section_display": true,
   "toc_window_display": false
  }
 },
 "nbformat": 4,
 "nbformat_minor": 4
}
