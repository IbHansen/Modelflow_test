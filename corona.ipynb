{
 "cells": [
  {
   "cell_type": "markdown",
   "metadata": {
    "slideshow": {
     "slide_type": "slide"
    }
   },
   "source": [
    "# Modelling spreading of infectious diseases\n",
    "This is an experimental model. Inspirered by https://triplebyte.com/blog/modeling-infectious-diseases. \n",
    "\n",
    "The model is purely for testing the capabilities of ModelFlow, the parameters selected are for ilustration of the dynamic and are not actual estimates. \n",
    "\n",
    "This is a Jupyter Notebook running Python. \n",
    "\n",
    "The notebook is located on github here: https://github.com/IbHansen/Modelflow_test\n",
    "\n",
    "Feel free to use this notebook. \n",
    "\n",
    "THE Notebook IS PROVIDED \"AS IS\", WITHOUT WARRANTY OF ANY KIND, EXPRESS OR\n",
    "IMPLIED, INCLUDING BUT NOT LIMITED TO THE WARRANTIES OF MERCHANTABILITY,\n",
    "FITNESS FOR A PARTICULAR PURPOSE AND NONINFRINGEMENT. IN NO EVENT SHALL THE\n",
    "AUTHORS OR COPYRIGHT HOLDERS BE LIABLE FOR ANY CLAIM, DAMAGES OR OTHER\n",
    "LIABILITY, WHETHER IN AN ACTION OF CONTRACT, TORT OR OTHERWISE, ARISING FROM,\n",
    "OUT OF OR IN CONNECTION WITH THE SOFTWARE OR THE USE OR OTHER DEALINGS IN THE\n",
    "SOFTWARE."
   ]
  },
  {
   "cell_type": "markdown",
   "metadata": {
    "slideshow": {
     "slide_type": "slide"
    }
   },
   "source": [
    "**To run the model** find the menu line above and select **cell>run all** \n",
    "\n",
    "The model will run with a baseline scenario and you can inspect the results. \n",
    "\n",
    "Then you can use the sliders to change the scenario."
   ]
  },
  {
   "cell_type": "markdown",
   "metadata": {
    "slideshow": {
     "slide_type": "slide"
    }
   },
   "source": [
    "## Import some stuff"
   ]
  },
  {
   "cell_type": "code",
   "execution_count": 9,
   "metadata": {
    "slideshow": {
     "slide_type": "-"
    }
   },
   "outputs": [],
   "source": [
    "import pandas as pd\n",
    "\n",
    "from modelsandbox      import create_new_model\n",
    "from modeljupyter      import inputwidget"
   ]
  },
  {
   "cell_type": "markdown",
   "metadata": {
    "slideshow": {
     "slide_type": "slide"
    }
   },
   "source": [
    "##  Specify Model\n",
    "The model is specified as equations. The equations defines the daily transition between the states:\n",
    "\n",
    " - susciptible\n",
    " - exposed\n",
    " - infectious\n",
    " - recovered\n",
    " - dead \n",
    " \n",
    "Some conventions:\n",
    " - (-1) after a variable means the value the day before.\n",
    " - diff means the change in variable from the day before"
   ]
  },
  {
   "cell_type": "code",
   "execution_count": 10,
   "metadata": {
    "slideshow": {
     "slide_type": "subslide"
    }
   },
   "outputs": [],
   "source": [
    "rcorona = '''\\\n",
    "             infection_rate        = min(rate_contact * probability_transmision * infectious(-1) / population(-1),1.0) \n",
    "             new_exposed           = infection_rate * susceptible\n",
    "             diff(exposed)         = new_exposed - new_infectious + exo_exposed\n",
    "\n",
    "             new_infectious        = incubation_rate * exposed \n",
    "             diff(infectious)      = new_infectious - new_recovered  - new_dead\n",
    "\n",
    "             diff(susceptible)     = -new_exposed  \n",
    "\n",
    "             new_recovered         = recovery_rate * infectious(-1)\n",
    "             diff(recovered)       = new_recovered \n",
    "             \n",
    "             new_dead              = dead_rate * infectious(-1)\n",
    "             diff(dead)            = new_dead \n",
    "             diff(population)      = -diff(dead)             \n",
    "'''\n",
    "mcorona = create_new_model(rcorona) # create a model instance which can solve the model "
   ]
  },
  {
   "cell_type": "markdown",
   "metadata": {
    "slideshow": {
     "slide_type": "slide"
    }
   },
   "source": [
    "## Define an initial scenario \n",
    "Now a tabel for the data is created.\n",
    "The tabel is implemented as a Pandas Dataframe. \n",
    "\n",
    "You don't have to understand the python code below. "
   ]
  },
  {
   "cell_type": "code",
   "execution_count": 11,
   "metadata": {},
   "outputs": [],
   "source": [
    "DAYS = 500\n",
    "basedf = pd.DataFrame(index=range(DAYS))       # make an empty dataframe with DAYS rows\n",
    "basedf.index.name = 'Day'"
   ]
  },
  {
   "cell_type": "markdown",
   "metadata": {
    "slideshow": {
     "slide_type": "slide"
    }
   },
   "source": [
    "## Make eksperiments \n",
    "Now you can make your own scenario. Use the sliders to define an scenario. Then press the run button. The model will solve, and the results can be inspected.\n",
    "\n",
    "Adjust the parameters. For instance, try to increase *Daily rate of contact* to 6.\n",
    "\n",
    "Then press run and watch how the values changes.\n",
    "\n",
    "You can change the scenario name, then a graph for each scenario will be shown. \n",
    "\n",
    "Again, you don't have to understand the Python code just press run. "
   ]
  },
  {
   "cell_type": "code",
   "execution_count": 12,
   "metadata": {
    "scrolled": false,
    "slideshow": {
     "slide_type": "slide"
    }
   },
   "outputs": [
    {
     "data": {
      "application/vnd.jupyter.widget-view+json": {
       "model_id": "38e1c84e51094a36b086dab59d4a1223",
       "version_major": 2,
       "version_minor": 0
      },
      "text/plain": [
       "VBox(children=(HBox(children=(Label(value='Input new parameter ', layout=Layout(width='52%')), Label(value='3'…"
      ]
     },
     "metadata": {},
     "output_type": "display_data"
    },
    {
     "data": {
      "application/vnd.jupyter.widget-view+json": {
       "model_id": "7928fbe9c6014e2d8a90f7bf82cb8426",
       "version_major": 2,
       "version_minor": 0
      },
      "text/plain": [
       "VBox(children=(Tab(children=(VBox(children=(Tab(children=(Output(), Output(), Output(), Output()), _titles={'0…"
      ]
     },
     "metadata": {},
     "output_type": "display_data"
    }
   ],
   "source": [
    "cow = inputwidget(mcorona,basedf,modelopt={'silent':0,'antal':1000,'first_test':10},\n",
    "                  slidedef = {\n",
    "                     'Population            '     :{'var' : 'POPULATION SUSCEPTIBLE', 'min' : 0.0, 'max' : 10_000_000, 'value' : 1_000_000,'step':100_000,'op':'=start-','dec':0},\n",
    "                     'Number of infected t=1'     :{'var' : 'EXO_EXPOSED',            'min' : 0.0, 'max' : 1000,       'value' : 300,      'step':10,'op':'=impulse','dec':0},\n",
    "                     'Daily incubation rate'      :{'var' : 'INCUBATION_RATE',        'min' : 0.0, 'max' : 1.0,        'value' : 0.1,                'op':'='},\n",
    "                     'Daily death rate'           :{'var' : 'DEAD_RATE',              'min' : 0.0, 'max' : 1.0,        'value' : 0.01,               'op':'=' },\n",
    "                     'Daily recovery rate'        :{'var' : 'RECOVERY_RATE',          'min' : 0.0, 'max' : 1.0,        'value' : 0.1,                'op':'='},\n",
    "                     'Daily rate of contact'      :{'var' : 'RATE_CONTACT',           'min' : 0.0, 'max' : 30,         'value' : 4,'step':0.1,         'op':'='},\n",
    "                     'Probability of transmission':{'var' : 'PROBABILITY_TRANSMISION','min' : 0.0, 'max' : 1.0,        'value' : 0.05,'step':0.005,  'op':'=','dec':3},\n",
    "                             },\n",
    "                 varpat='infectious recovered dead new_infectious new_recovered new_dead',showvar=False)"
   ]
  },
  {
   "cell_type": "code",
   "execution_count": null,
   "metadata": {},
   "outputs": [],
   "source": []
  }
 ],
 "metadata": {
  "kernelspec": {
   "display_name": "Python 3",
   "language": "python",
   "name": "python3"
  },
  "language_info": {
   "codemirror_mode": {
    "name": "ipython",
    "version": 3
   },
   "file_extension": ".py",
   "mimetype": "text/x-python",
   "name": "python",
   "nbconvert_exporter": "python",
   "pygments_lexer": "ipython3",
   "version": "3.7.5"
  },
  "toc": {
   "base_numbering": 1,
   "nav_menu": {},
   "number_sections": true,
   "sideBar": true,
   "skip_h1_title": false,
   "title_cell": "Table of Contents",
   "title_sidebar": "Contents",
   "toc_cell": false,
   "toc_position": {},
   "toc_section_display": true,
   "toc_window_display": false
  }
 },
 "nbformat": 4,
 "nbformat_minor": 4
}
